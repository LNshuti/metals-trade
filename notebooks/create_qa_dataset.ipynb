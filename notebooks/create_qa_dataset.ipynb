{
 "cells": [
  {
   "cell_type": "code",
   "execution_count": 15,
   "metadata": {},
   "outputs": [],
   "source": [
    "!pip install -q pdf2image pillow pytesseract transformers llama-index\n",
    "!pip install -q llama-index-embeddings-huggingface\n",
    "!pip install -q llama-index-embeddings-instructor"
   ]
  },
  {
   "cell_type": "code",
   "execution_count": 16,
   "metadata": {},
   "outputs": [],
   "source": [
    "import os\n",
    "import json\n",
    "from pdf2image import convert_from_path\n",
    "from PIL import Image\n",
    "import pytesseract\n",
    "from llama_index.core import VectorStoreIndex, SimpleDirectoryReader, Document\n",
    "from llama_index.core import Settings\n",
    "import openai\n",
<<<<<<< HEAD
    "import streamlit as st \n",
=======
    "import streamlit as st\n",
>>>>>>> e8a5efc (ignore older files)
    "from llama_index.embeddings.huggingface import HuggingFaceEmbedding\n",
    "import toml\n",
    "\n",
<<<<<<< HEAD
    "# Load the secrets.toml file\n",
    "secrets = toml.load(\".streamlit/secrets.toml\")\n",
    "# Retrieve the OpenAI API key\n",
    "api_key = secrets[\"openai\"][\"api_key\"]\n",
    "# Set the API key in the environment variable\n",
    "os.environ[\"OPENAI_API_KEY\"] = api_key\n",
    "\n",
    "openai.api_key = os.environ[\"OPENAI_API_KEY\"]"
=======
    "# needed to synthesize responses later\n",
    "openai.api_key = st.secrets[\"OPENAI_API_KEY\"]"
>>>>>>> e8a5efc (ignore older files)
   ]
  },
  {
   "cell_type": "code",
   "execution_count": 17,
   "metadata": {},
   "outputs": [],
   "source": [
    "# loads BAAI/bge-small-en-v1.5\n",
    "embed_model = HuggingFaceEmbedding(model_name=\"BAAI/bge-small-en-v1.5\")"
   ]
  },
  {
   "cell_type": "code",
   "execution_count": 18,
   "metadata": {},
   "outputs": [],
   "source": [
    "def extract_text_from_pdf(pdf_file):\n",
    "    images = convert_from_path(pdf_file)\n",
    "    text = \"\"\n",
    "    for image in images:\n",
    "        text += pytesseract.image_to_string(image)\n",
    "    return text\n",
    "\n",
    "def process_pdf_with_llama(pdf_file, country):\n",
    "    text = extract_text_from_pdf(pdf_file)\n",
    "    \n",
    "    # Create a Document object with the extracted text\n",
    "    doc = Document(text=text, metadata={'country': country, 'file_name': os.path.basename(pdf_file)})\n",
    "    \n",
    "    # Create an index with LlamaIndex\n",
    "    index = VectorStoreIndex.from_documents([doc])\n",
    "    \n",
    "    # Extract relevant information from the indexed document\n",
    "    # Assuming we have some method to query the index and extract metadata\n",
    "    query_engine = index.as_query_engine()\n",
    "    response = query_engine.query(\"Extract the year mentioned in the document\")\n",
    "    \n",
    "    dataset = {}\n",
    "    dataset[\"country\"] = country\n",
    "    dataset[\"year\"] = response['text'] if response else \"Unknown\"\n",
    "\n",
    "    return dataset\n",
    "\n",
    "def save_finetuning_dataset(dataset, pdf_file):\n",
    "    filename = os.path.basename(pdf_file).replace(\".pdf\", \".json\")\n",
    "    output_path = os.path.join(\"documents/finetuning-data/\", filename)\n",
    "    \n",
    "    with open(output_path, \"w\") as file:\n",
    "        json.dump(dataset, file)\n",
    "\n",
    "def store_in_knowledge_graph(country, dataset):\n",
    "    # Example using a dictionary to represent the KG\n",
    "    kg = {}\n",
    "    if country in kg:\n",
    "        kg[country].append(dataset)\n",
    "    else:\n",
    "        kg[country] = [dataset]\n",
    "\n",
    "# Main function to process all PDFs and create fine-tuning datasets\n",
    "def main():\n",
    "    pdf_files_dir = \"documents/\"\n",
    "    \n",
    "    for filename in os.listdir(pdf_files_dir):\n",
    "        if filename.endswith(\".pdf\"):\n",
    "            country = filename.split(\"-\")[1]\n",
    "            pdf_file = os.path.join(pdf_files_dir, filename)\n",
    "\n",
    "            dataset = process_pdf_with_llama(pdf_file, country)\n",
    "            \n",
    "            save_finetuning_dataset(dataset, pdf_file)\n",
    "            store_in_knowledge_graph(country, dataset)\n"
   ]
  },
  {
   "cell_type": "code",
   "execution_count": 19,
   "metadata": {},
   "outputs": [],
   "source": [
    "if __name__ == \"__main__\":\n",
    "    main()"
   ]
  }
 ],
 "metadata": {
  "kernelspec": {
   "display_name": "imf-articles",
   "language": "python",
   "name": "python3"
  },
  "language_info": {
   "codemirror_mode": {
    "name": "ipython",
    "version": 3
   },
   "file_extension": ".py",
   "mimetype": "text/x-python",
   "name": "python",
   "nbconvert_exporter": "python",
   "pygments_lexer": "ipython3",
   "version": "3.9.19"
  }
 },
 "nbformat": 4,
 "nbformat_minor": 2
}
