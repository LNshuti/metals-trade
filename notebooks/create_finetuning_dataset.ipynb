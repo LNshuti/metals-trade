{
 "cells": [
  {
   "cell_type": "code",
   "execution_count": null,
   "metadata": {},
   "outputs": [],
   "source": [
    "!pip install -q -U PyPDF2\n",
    "!pip install -q -U spacy"
   ]
  },
  {
   "cell_type": "code",
   "execution_count": null,
   "metadata": {},
   "outputs": [],
   "source": [
    "import os\n",
    "import json\n",
    "import re\n",
    "from PyPDF2 import PdfFileReader\n",
    "import spacy\n",
    "from collections import defaultdict"
   ]
  },
  {
   "cell_type": "code",
   "execution_count": null,
   "metadata": {},
   "outputs": [],
   "source": [
    "!python -m -quiet spacy download en_core_web_sm"
   ]
  },
  {
   "cell_type": "code",
   "execution_count": null,
   "metadata": {},
   "outputs": [],
   "source": [
    "nlp = spacy.load(\"en_core_web_sm\")"
   ]
  },
  {
   "cell_type": "code",
   "execution_count": null,
   "metadata": {},
   "outputs": [],
   "source": [
    "\n",
    "def extract_text_from_pdf(pdf_path):\n",
    "    pdf_text = \"\"\n",
    "    with open(pdf_path, 'rb') as file:\n",
    "        reader = PdfFileReader(file)\n",
    "        for page_num in range(reader.numPages):\n",
    "            page = reader.getPage(page_num)\n",
    "            pdf_text += page.extract_text()\n",
    "    return pdf_text\n",
    "\n",
    "def clean_text(text):\n",
    "    # Clean text for better processing\n",
    "    text = re.sub(r'\\s+', ' ', text)\n",
    "    text = re.sub(r'\\n+', ' ', text)\n",
    "    return text.strip()\n",
    "\n",
    "def split_into_paragraphs(text):\n",
    "    return [clean_text(p) for p in text.split(\"\\n\\n\") if p.strip()]\n",
    "\n",
    "def extract_qa_from_paragraph(paragraph, nlp_model):\n",
    "    doc = nlp_model(paragraph)\n",
    "    questions = []\n",
    "    answers = []\n",
    "    \n",
    "    for sent in doc.sents:\n",
    "        if sent.text.strip().endswith('?'):\n",
    "            questions.append(sent.text.strip())\n",
    "        else:\n",
    "            answers.append(sent.text.strip())\n",
    "    \n",
    "    return questions, answers\n",
    "\n",
    "def create_finetuning_dataset(paragraphs, nlp_model):\n",
    "    dataset = []\n",
    "    for para in paragraphs:\n",
    "        questions, answers = extract_qa_from_paragraph(para, nlp_model)\n",
    "        for q, a in zip(questions, answers):\n",
    "            dataset.append({\n",
    "                \"question\": q,\n",
    "                \"answer\": a,\n",
    "                \"context\": para\n",
    "            })\n",
    "    return dataset\n",
    "\n",
    "def save_dataset_as_json(dataset, output_path):\n",
    "    with open(output_path, 'w') as f:\n",
    "        json.dump(dataset, f, indent=4)\n",
    "\n",
    "def process_pdf_files(input_dir, output_dir, nlp_model):\n",
    "    if not os.path.exists(output_dir):\n",
    "        os.makedirs(output_dir)\n",
    "    \n",
    "    for filename in os.listdir(input_dir):\n",
    "        if filename.endswith(\".pdf\"):\n",
    "            file_path = os.path.join(input_dir, filename)\n",
    "            text = extract_text_from_pdf(file_path)\n",
    "            paragraphs = split_into_paragraphs(text)\n",
    "            dataset = create_finetuning_dataset(paragraphs, nlp_model)\n",
    "            output_path = os.path.join(output_dir, filename.replace('.pdf', '.json'))\n",
    "            save_dataset_as_json(dataset, output_path)\n",
    "\n",
    "def create_knowledge_graph(output_dir):\n",
    "    knowledge_graph = defaultdict(list)\n",
    "    \n",
    "    for filename in os.listdir(output_dir):\n",
    "        if filename.endswith(\".json\"):\n",
    "            file_path = os.path.join(output_dir, filename)\n",
    "            with open(file_path, 'r') as f:\n",
    "                dataset = json.load(f)\n",
    "                country = filename.split('-')[1]\n",
    "                for data in dataset:\n",
    "                    knowledge_graph[country].append(data)\n",
    "    \n",
    "    with open(os.path.join(output_dir, 'knowledge_graph.json'), 'w') as f:\n",
    "        json.dump(knowledge_graph, f, indent=4)"
   ]
  },
  {
   "cell_type": "code",
   "execution_count": null,
   "metadata": {},
   "outputs": [],
   "source": [
    "# Example usage:\n",
    "input_directory = \"documents/\"\n",
    "output_directory = \"documents/finetuning-data/\"\n",
    "\n",
    "process_pdf_files(input_directory, output_directory, nlp)\n",
    "create_knowledge_graph(output_directory)"
   ]
  }
 ],
 "metadata": {
  "kernelspec": {
   "display_name": "metals-trade",
   "language": "python",
   "name": "python3"
  },
  "language_info": {
   "codemirror_mode": {
    "name": "ipython",
    "version": 3
   },
   "file_extension": ".py",
   "mimetype": "text/x-python",
   "name": "python",
   "nbconvert_exporter": "python",
   "pygments_lexer": "ipython3",
   "version": "3.9.19"
  }
 },
 "nbformat": 4,
 "nbformat_minor": 2
}
