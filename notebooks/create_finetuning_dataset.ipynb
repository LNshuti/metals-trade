{
 "cells": [
  {
   "cell_type": "code",
   "execution_count": 10,
   "metadata": {},
   "outputs": [],
   "source": [
    "!pip install -q -U PyPDF2\n",
    "!pip install -q -U spacy"
   ]
  },
  {
   "cell_type": "code",
   "execution_count": 11,
   "metadata": {},
   "outputs": [],
   "source": [
    "import os\n",
    "import json\n",
    "import re\n",
    "from PyPDF2 import PdfFileReader\n",
    "import spacy\n",
    "from collections import defaultdict"
   ]
  },
  {
   "cell_type": "code",
   "execution_count": 12,
   "metadata": {},
   "outputs": [
    {
     "name": "stdout",
     "output_type": "stream",
     "text": [
      "Collecting en-core-web-sm==3.7.1\n",
      "  Using cached https://github.com/explosion/spacy-models/releases/download/en_core_web_sm-3.7.1/en_core_web_sm-3.7.1-py3-none-any.whl (12.8 MB)\n",
      "Requirement already satisfied: spacy<3.8.0,>=3.7.2 in c:\\users\\lnshuti\\appdata\\local\\miniconda3\\envs\\metals-trade\\lib\\site-packages (from en-core-web-sm==3.7.1) (3.7.4)\n",
      "Requirement already satisfied: spacy-legacy<3.1.0,>=3.0.11 in c:\\users\\lnshuti\\appdata\\local\\miniconda3\\envs\\metals-trade\\lib\\site-packages (from spacy<3.8.0,>=3.7.2->en-core-web-sm==3.7.1) (3.0.12)\n",
      "Requirement already satisfied: spacy-loggers<2.0.0,>=1.0.0 in c:\\users\\lnshuti\\appdata\\local\\miniconda3\\envs\\metals-trade\\lib\\site-packages (from spacy<3.8.0,>=3.7.2->en-core-web-sm==3.7.1) (1.0.5)\n",
      "Requirement already satisfied: murmurhash<1.1.0,>=0.28.0 in c:\\users\\lnshuti\\appdata\\local\\miniconda3\\envs\\metals-trade\\lib\\site-packages (from spacy<3.8.0,>=3.7.2->en-core-web-sm==3.7.1) (1.0.10)\n",
      "Requirement already satisfied: cymem<2.1.0,>=2.0.2 in c:\\users\\lnshuti\\appdata\\local\\miniconda3\\envs\\metals-trade\\lib\\site-packages (from spacy<3.8.0,>=3.7.2->en-core-web-sm==3.7.1) (2.0.8)\n",
      "Requirement already satisfied: preshed<3.1.0,>=3.0.2 in c:\\users\\lnshuti\\appdata\\local\\miniconda3\\envs\\metals-trade\\lib\\site-packages (from spacy<3.8.0,>=3.7.2->en-core-web-sm==3.7.1) (3.0.9)\n",
      "Requirement already satisfied: thinc<8.3.0,>=8.2.2 in c:\\users\\lnshuti\\appdata\\local\\miniconda3\\envs\\metals-trade\\lib\\site-packages (from spacy<3.8.0,>=3.7.2->en-core-web-sm==3.7.1) (8.2.3)\n",
      "Requirement already satisfied: wasabi<1.2.0,>=0.9.1 in c:\\users\\lnshuti\\appdata\\local\\miniconda3\\envs\\metals-trade\\lib\\site-packages (from spacy<3.8.0,>=3.7.2->en-core-web-sm==3.7.1) (1.1.2)\n",
      "Requirement already satisfied: srsly<3.0.0,>=2.4.3 in c:\\users\\lnshuti\\appdata\\local\\miniconda3\\envs\\metals-trade\\lib\\site-packages (from spacy<3.8.0,>=3.7.2->en-core-web-sm==3.7.1) (2.4.8)\n",
      "Requirement already satisfied: catalogue<2.1.0,>=2.0.6 in c:\\users\\lnshuti\\appdata\\local\\miniconda3\\envs\\metals-trade\\lib\\site-packages (from spacy<3.8.0,>=3.7.2->en-core-web-sm==3.7.1) (2.0.10)\n",
      "Requirement already satisfied: weasel<0.4.0,>=0.1.0 in c:\\users\\lnshuti\\appdata\\local\\miniconda3\\envs\\metals-trade\\lib\\site-packages (from spacy<3.8.0,>=3.7.2->en-core-web-sm==3.7.1) (0.3.4)\n",
      "Requirement already satisfied: typer<0.10.0,>=0.3.0 in c:\\users\\lnshuti\\appdata\\local\\miniconda3\\envs\\metals-trade\\lib\\site-packages (from spacy<3.8.0,>=3.7.2->en-core-web-sm==3.7.1) (0.9.4)\n",
      "Requirement already satisfied: smart-open<7.0.0,>=5.2.1 in c:\\users\\lnshuti\\appdata\\local\\miniconda3\\envs\\metals-trade\\lib\\site-packages (from spacy<3.8.0,>=3.7.2->en-core-web-sm==3.7.1) (6.4.0)\n",
      "Requirement already satisfied: tqdm<5.0.0,>=4.38.0 in c:\\users\\lnshuti\\appdata\\local\\miniconda3\\envs\\metals-trade\\lib\\site-packages (from spacy<3.8.0,>=3.7.2->en-core-web-sm==3.7.1) (4.66.2)\n",
      "Requirement already satisfied: requests<3.0.0,>=2.13.0 in c:\\users\\lnshuti\\appdata\\local\\miniconda3\\envs\\metals-trade\\lib\\site-packages (from spacy<3.8.0,>=3.7.2->en-core-web-sm==3.7.1) (2.31.0)\n",
      "Requirement already satisfied: pydantic!=1.8,!=1.8.1,<3.0.0,>=1.7.4 in c:\\users\\lnshuti\\appdata\\local\\miniconda3\\envs\\metals-trade\\lib\\site-packages (from spacy<3.8.0,>=3.7.2->en-core-web-sm==3.7.1) (2.7.0)\n",
      "Requirement already satisfied: jinja2 in c:\\users\\lnshuti\\appdata\\local\\miniconda3\\envs\\metals-trade\\lib\\site-packages (from spacy<3.8.0,>=3.7.2->en-core-web-sm==3.7.1) (3.1.3)\n",
      "Requirement already satisfied: setuptools in c:\\users\\lnshuti\\appdata\\local\\miniconda3\\envs\\metals-trade\\lib\\site-packages (from spacy<3.8.0,>=3.7.2->en-core-web-sm==3.7.1) (69.2.0)\n",
      "Requirement already satisfied: packaging>=20.0 in c:\\users\\lnshuti\\appdata\\local\\miniconda3\\envs\\metals-trade\\lib\\site-packages (from spacy<3.8.0,>=3.7.2->en-core-web-sm==3.7.1) (23.2)\n",
      "Requirement already satisfied: langcodes<4.0.0,>=3.2.0 in c:\\users\\lnshuti\\appdata\\local\\miniconda3\\envs\\metals-trade\\lib\\site-packages (from spacy<3.8.0,>=3.7.2->en-core-web-sm==3.7.1) (3.4.0)\n",
      "Requirement already satisfied: numpy>=1.19.0 in c:\\users\\lnshuti\\appdata\\local\\miniconda3\\envs\\metals-trade\\lib\\site-packages (from spacy<3.8.0,>=3.7.2->en-core-web-sm==3.7.1) (1.26.4)\n",
      "Requirement already satisfied: language-data>=1.2 in c:\\users\\lnshuti\\appdata\\local\\miniconda3\\envs\\metals-trade\\lib\\site-packages (from langcodes<4.0.0,>=3.2.0->spacy<3.8.0,>=3.7.2->en-core-web-sm==3.7.1) (1.2.0)\n",
      "Requirement already satisfied: annotated-types>=0.4.0 in c:\\users\\lnshuti\\appdata\\local\\miniconda3\\envs\\metals-trade\\lib\\site-packages (from pydantic!=1.8,!=1.8.1,<3.0.0,>=1.7.4->spacy<3.8.0,>=3.7.2->en-core-web-sm==3.7.1) (0.6.0)\n",
      "Requirement already satisfied: pydantic-core==2.18.1 in c:\\users\\lnshuti\\appdata\\local\\miniconda3\\envs\\metals-trade\\lib\\site-packages (from pydantic!=1.8,!=1.8.1,<3.0.0,>=1.7.4->spacy<3.8.0,>=3.7.2->en-core-web-sm==3.7.1) (2.18.1)\n",
      "Requirement already satisfied: typing-extensions>=4.6.1 in c:\\users\\lnshuti\\appdata\\local\\miniconda3\\envs\\metals-trade\\lib\\site-packages (from pydantic!=1.8,!=1.8.1,<3.0.0,>=1.7.4->spacy<3.8.0,>=3.7.2->en-core-web-sm==3.7.1) (4.10.0)\n",
      "Requirement already satisfied: charset-normalizer<4,>=2 in c:\\users\\lnshuti\\appdata\\local\\miniconda3\\envs\\metals-trade\\lib\\site-packages (from requests<3.0.0,>=2.13.0->spacy<3.8.0,>=3.7.2->en-core-web-sm==3.7.1) (3.3.2)\n",
      "Requirement already satisfied: idna<4,>=2.5 in c:\\users\\lnshuti\\appdata\\local\\miniconda3\\envs\\metals-trade\\lib\\site-packages (from requests<3.0.0,>=2.13.0->spacy<3.8.0,>=3.7.2->en-core-web-sm==3.7.1) (3.6)\n",
      "Requirement already satisfied: urllib3<3,>=1.21.1 in c:\\users\\lnshuti\\appdata\\local\\miniconda3\\envs\\metals-trade\\lib\\site-packages (from requests<3.0.0,>=2.13.0->spacy<3.8.0,>=3.7.2->en-core-web-sm==3.7.1) (1.26.18)\n",
      "Requirement already satisfied: certifi>=2017.4.17 in c:\\users\\lnshuti\\appdata\\local\\miniconda3\\envs\\metals-trade\\lib\\site-packages (from requests<3.0.0,>=2.13.0->spacy<3.8.0,>=3.7.2->en-core-web-sm==3.7.1) (2024.2.2)\n",
      "Requirement already satisfied: blis<0.8.0,>=0.7.8 in c:\\users\\lnshuti\\appdata\\local\\miniconda3\\envs\\metals-trade\\lib\\site-packages (from thinc<8.3.0,>=8.2.2->spacy<3.8.0,>=3.7.2->en-core-web-sm==3.7.1) (0.7.11)\n",
      "Requirement already satisfied: confection<1.0.0,>=0.0.1 in c:\\users\\lnshuti\\appdata\\local\\miniconda3\\envs\\metals-trade\\lib\\site-packages (from thinc<8.3.0,>=8.2.2->spacy<3.8.0,>=3.7.2->en-core-web-sm==3.7.1) (0.1.4)\n",
      "Requirement already satisfied: colorama in c:\\users\\lnshuti\\appdata\\local\\miniconda3\\envs\\metals-trade\\lib\\site-packages (from tqdm<5.0.0,>=4.38.0->spacy<3.8.0,>=3.7.2->en-core-web-sm==3.7.1) (0.4.6)\n",
      "Requirement already satisfied: click<9.0.0,>=7.1.1 in c:\\users\\lnshuti\\appdata\\local\\miniconda3\\envs\\metals-trade\\lib\\site-packages (from typer<0.10.0,>=0.3.0->spacy<3.8.0,>=3.7.2->en-core-web-sm==3.7.1) (8.1.7)\n",
      "Requirement already satisfied: cloudpathlib<0.17.0,>=0.7.0 in c:\\users\\lnshuti\\appdata\\local\\miniconda3\\envs\\metals-trade\\lib\\site-packages (from weasel<0.4.0,>=0.1.0->spacy<3.8.0,>=3.7.2->en-core-web-sm==3.7.1) (0.16.0)\n",
      "Requirement already satisfied: MarkupSafe>=2.0 in c:\\users\\lnshuti\\appdata\\local\\miniconda3\\envs\\metals-trade\\lib\\site-packages (from jinja2->spacy<3.8.0,>=3.7.2->en-core-web-sm==3.7.1) (2.1.5)\n",
      "Requirement already satisfied: marisa-trie>=0.7.7 in c:\\users\\lnshuti\\appdata\\local\\miniconda3\\envs\\metals-trade\\lib\\site-packages (from language-data>=1.2->langcodes<4.0.0,>=3.2.0->spacy<3.8.0,>=3.7.2->en-core-web-sm==3.7.1) (1.1.1)\n",
      "\u001b[38;5;2m✔ Download and installation successful\u001b[0m\n",
      "You can now load the package via spacy.load('en_core_web_sm')\n"
     ]
    }
   ],
   "source": [
    "!python -m spacy download en_core_web_sm"
   ]
  },
  {
   "cell_type": "code",
   "execution_count": 13,
   "metadata": {},
   "outputs": [],
   "source": [
    "nlp = spacy.load(\"en_core_web_sm\")"
   ]
  },
  {
   "cell_type": "code",
   "execution_count": 14,
   "metadata": {},
   "outputs": [],
   "source": [
    "\n",
    "def extract_text_from_pdf(pdf_path):\n",
    "    pdf_text = \"\"\n",
    "    with open(pdf_path, 'rb') as file:\n",
    "        reader = PdfFileReader(file)\n",
    "        for page_num in range(reader.numPages):\n",
    "            page = reader.getPage(page_num)\n",
    "            pdf_text += page.extract_text()\n",
    "    return pdf_text\n",
    "\n",
    "def clean_text(text):\n",
    "    # Clean text for better processing\n",
    "    text = re.sub(r'\\s+', ' ', text)\n",
    "    text = re.sub(r'\\n+', ' ', text)\n",
    "    return text.strip()\n",
    "\n",
    "def split_into_paragraphs(text):\n",
    "    return [clean_text(p) for p in text.split(\"\\n\\n\") if p.strip()]\n",
    "\n",
    "def extract_qa_from_paragraph(paragraph, nlp_model):\n",
    "    doc = nlp_model(paragraph)\n",
    "    questions = []\n",
    "    answers = []\n",
    "    \n",
    "    for sent in doc.sents:\n",
    "        if sent.text.strip().endswith('?'):\n",
    "            questions.append(sent.text.strip())\n",
    "        else:\n",
    "            answers.append(sent.text.strip())\n",
    "    \n",
    "    return questions, answers\n",
    "\n",
    "def create_finetuning_dataset(paragraphs, nlp_model):\n",
    "    dataset = []\n",
    "    for para in paragraphs:\n",
    "        questions, answers = extract_qa_from_paragraph(para, nlp_model)\n",
    "        for q, a in zip(questions, answers):\n",
    "            dataset.append({\n",
    "                \"question\": q,\n",
    "                \"answer\": a,\n",
    "                \"context\": para\n",
    "            })\n",
    "    return dataset\n",
    "\n",
    "def save_dataset_as_json(dataset, output_path):\n",
    "    with open(output_path, 'w') as f:\n",
    "        json.dump(dataset, f, indent=4)\n",
    "\n",
    "def process_pdf_files(input_dir, output_dir, nlp_model):\n",
    "    if not os.path.exists(output_dir):\n",
    "        os.makedirs(output_dir)\n",
    "    \n",
    "    for filename in os.listdir(input_dir):\n",
    "        if filename.endswith(\".pdf\"):\n",
    "            file_path = os.path.join(input_dir, filename)\n",
    "            text = extract_text_from_pdf(file_path)\n",
    "            paragraphs = split_into_paragraphs(text)\n",
    "            dataset = create_finetuning_dataset(paragraphs, nlp_model)\n",
    "            output_path = os.path.join(output_dir, filename.replace('.pdf', '.json'))\n",
    "            save_dataset_as_json(dataset, output_path)\n",
    "\n",
    "def create_knowledge_graph(output_dir):\n",
    "    knowledge_graph = defaultdict(list)\n",
    "    \n",
    "    for filename in os.listdir(output_dir):\n",
    "        if filename.endswith(\".json\"):\n",
    "            file_path = os.path.join(output_dir, filename)\n",
    "            with open(file_path, 'r') as f:\n",
    "                dataset = json.load(f)\n",
    "                country = filename.split('-')[1]\n",
    "                for data in dataset:\n",
    "                    knowledge_graph[country].append(data)\n",
    "    \n",
    "    with open(os.path.join(output_dir, 'knowledge_graph.json'), 'w') as f:\n",
    "        json.dump(knowledge_graph, f, indent=4)"
   ]
  },
  {
   "cell_type": "code",
   "execution_count": 15,
   "metadata": {},
   "outputs": [
    {
     "ename": "IndexError",
     "evalue": "list index out of range",
     "output_type": "error",
     "traceback": [
      "\u001b[1;31m---------------------------------------------------------------------------\u001b[0m",
      "\u001b[1;31mIndexError\u001b[0m                                Traceback (most recent call last)",
      "Cell \u001b[1;32mIn[15], line 6\u001b[0m\n\u001b[0;32m      3\u001b[0m output_directory \u001b[38;5;241m=\u001b[39m \u001b[38;5;124m\"\u001b[39m\u001b[38;5;124mdocuments/finetuning-data/\u001b[39m\u001b[38;5;124m\"\u001b[39m\n\u001b[0;32m      5\u001b[0m process_pdf_files(input_directory, output_directory, nlp)\n\u001b[1;32m----> 6\u001b[0m \u001b[43mcreate_knowledge_graph\u001b[49m\u001b[43m(\u001b[49m\u001b[43moutput_directory\u001b[49m\u001b[43m)\u001b[49m\n",
      "Cell \u001b[1;32mIn[14], line 69\u001b[0m, in \u001b[0;36mcreate_knowledge_graph\u001b[1;34m(output_dir)\u001b[0m\n\u001b[0;32m     67\u001b[0m \u001b[38;5;28;01mwith\u001b[39;00m \u001b[38;5;28mopen\u001b[39m(file_path, \u001b[38;5;124m'\u001b[39m\u001b[38;5;124mr\u001b[39m\u001b[38;5;124m'\u001b[39m) \u001b[38;5;28;01mas\u001b[39;00m f:\n\u001b[0;32m     68\u001b[0m     dataset \u001b[38;5;241m=\u001b[39m json\u001b[38;5;241m.\u001b[39mload(f)\n\u001b[1;32m---> 69\u001b[0m     country \u001b[38;5;241m=\u001b[39m \u001b[43mfilename\u001b[49m\u001b[38;5;241;43m.\u001b[39;49m\u001b[43msplit\u001b[49m\u001b[43m(\u001b[49m\u001b[38;5;124;43m'\u001b[39;49m\u001b[38;5;124;43m-\u001b[39;49m\u001b[38;5;124;43m'\u001b[39;49m\u001b[43m)\u001b[49m\u001b[43m[\u001b[49m\u001b[38;5;241;43m1\u001b[39;49m\u001b[43m]\u001b[49m\n\u001b[0;32m     70\u001b[0m     \u001b[38;5;28;01mfor\u001b[39;00m data \u001b[38;5;129;01min\u001b[39;00m dataset:\n\u001b[0;32m     71\u001b[0m         knowledge_graph[country]\u001b[38;5;241m.\u001b[39mappend(data)\n",
      "\u001b[1;31mIndexError\u001b[0m: list index out of range"
     ]
    }
   ],
   "source": [
    "# Example usage:\n",
    "input_directory = \"documents/\"\n",
    "output_directory = \"documents/finetuning-data/\"\n",
    "\n",
    "process_pdf_files(input_directory, output_directory, nlp)\n",
    "create_knowledge_graph(output_directory)"
   ]
  }
 ],
 "metadata": {
  "kernelspec": {
   "display_name": "metals-trade",
   "language": "python",
   "name": "python3"
  },
  "language_info": {
   "codemirror_mode": {
    "name": "ipython",
    "version": 3
   },
   "file_extension": ".py",
   "mimetype": "text/x-python",
   "name": "python",
   "nbconvert_exporter": "python",
   "pygments_lexer": "ipython3",
   "version": "3.9.19"
  }
 },
 "nbformat": 4,
 "nbformat_minor": 2
}
