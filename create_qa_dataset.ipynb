{
 "cells": [
  {
   "cell_type": "code",
   "execution_count": 3,
   "metadata": {},
   "outputs": [],
   "source": [
    "import pdfplumber\n",
    "\n",
    "# Path to the uploaded PDF file\n",
    "file_path = './documents/critical-minerals-africa-senior-study-group-final-report.pdf'\n",
    "\n",
    "# Function to extract text from each page of the PDF\n",
    "def extract_text_from_pdf(file_path):\n",
    "    text = \"\"\n",
    "    with pdfplumber.open(file_path) as pdf:\n",
    "        for page in pdf.pages:\n",
    "            text += page.extract_text()\n",
    "    return text\n",
    "\n",
    "# Extract text from the PDF\n",
    "pdf_text = extract_text_from_pdf(file_path)\n",
    "pdf_text[:2000]  # Display the first 2000 characters for context"
   ]
  },
  {
   "cell_type": "code",
   "execution_count": 5,
   "metadata": {},
   "outputs": [
    {
     "data": {
      "text/plain": [
       "'APRIL 2024\\nCritical Minerals\\nin Africa\\nStrengthening Security, Supporting Development, and\\nReducing Conflict amid Geopolitical Competition\\nUSIP SENIOR STUDY GROUP FINAL REPORTThe United States Institute of Peace convened a nonpartisan senior study group in the spring of\\n2023 to explore the role Africa plays in the United States’ efforts to diversify US critical mineral supply\\nchains and how new investment in partnerships with African countries could help drive economic\\ndevelopment and strengthen peace and security on the African continent. The study group—\\ncomprising nine senior leaders experienced in US-Africa policy and relations—participated in four\\nexploratory meetings from June through October 2023. During the course of the study, multiple inter-\\nviews with relevant technical, operational, and policy experts were also conducted. Through these\\nactivities, the study group developed a set of 13 consensus recommendations for the United States to\\nsupport mutually beneficial public and private partnerships with African countries as the United States\\nendeavors to diversify its access to minerals deemed critical to US economic and national security.\\nCover includes artwork by Unleashed Design/Shutterstock.\\n© 2024 by the United States Institute of Peace\\nUnited States Institute of Peace\\n2301 Constitution Avenue NW\\nWashington, DC 20037\\nPhone: 202.457.1700\\nFax: 202.429.6063\\nE-mail: usip_requests@usip.org\\nWeb: www.usip.org\\nFirst published April 2024\\nISBN: 978-1-60127-935-4Critical Minerals\\nin Africa\\nStudy Group Members\\nEdward A. Burrier Makila James\\nFormer Senior Advisor, United States Institute Former Senior Advisor, United States Institute\\nof Peace; Former Executive Vice President, of Peace; Former US Ambassador to Eswatini;\\nUS International Development Finance Former Deputy Assistant Secretary of State for\\nCorporation; Former Deputy Staff Director, East Africa, Sudan, and South Sudan\\nHouse Foreign Affairs Committee\\nDarias Jonker\\nKamissa Camara Head of Government and Inter'"
      ]
     },
     "execution_count": 5,
     "metadata": {},
     "output_type": "execute_result"
    }
   ],
   "source": []
  }
 ],
 "metadata": {
  "kernelspec": {
   "display_name": "imf-articles",
   "language": "python",
   "name": "python3"
  },
  "language_info": {
   "codemirror_mode": {
    "name": "ipython",
    "version": 3
   },
   "file_extension": ".py",
   "mimetype": "text/x-python",
   "name": "python",
   "nbconvert_exporter": "python",
   "pygments_lexer": "ipython3",
   "version": "3.9.19"
  }
 },
 "nbformat": 4,
 "nbformat_minor": 2
}
